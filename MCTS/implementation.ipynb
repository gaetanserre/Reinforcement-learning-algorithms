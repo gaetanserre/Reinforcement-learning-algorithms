{
 "cells": [
  {
   "cell_type": "markdown",
   "metadata": {},
   "source": [
    "## Inspired by this [guide](http://joshvarty.github.io/AlphaZero/)."
   ]
  },
  {
   "cell_type": "code",
   "execution_count": null,
   "metadata": {},
   "outputs": [],
   "source": [
    "import sys\n",
    "sys.path.insert(1, 'games/')\n",
    "from connect2 import Connect2\n",
    "from connect4 import Connect4\n",
    "from tic_tac_toe import TicTacToe\n",
    "from mcts import MCTS\n",
    "from model import Model\n",
    "import numpy as np\n",
    "import matplotlib.pyplot as plt\n",
    "np.random.seed(42)"
   ]
  },
  {
   "cell_type": "code",
   "execution_count": null,
   "metadata": {},
   "outputs": [],
   "source": [
    "model = Model((TicTacToe.ROWS, TicTacToe.COLUMNS, 2), TicTacToe.nb_actions, summary=True)"
   ]
  },
  {
   "cell_type": "code",
   "execution_count": null,
   "metadata": {},
   "outputs": [],
   "source": [
    "model.train(TicTacToe(), nb_iter=15, nb_simulations=200, nb_games=40, nb_epochs=40)\n",
    "model.save(\"models/model_tic_tac_toe.h5\")"
   ]
  },
  {
   "cell_type": "code",
   "execution_count": null,
   "metadata": {},
   "outputs": [],
   "source": [
    "model.predict(TicTacToe.get_init_state())"
   ]
  },
  {
   "cell_type": "code",
   "execution_count": null,
   "metadata": {},
   "outputs": [],
   "source": [
    "state = TicTacToe.get_init_state()\n",
    "state = TicTacToe().get_new_state(state, 0)\n",
    "state = TicTacToe().get_new_state(state, 5)\n",
    "TicTacToe.play_vs(model, state, 200)"
   ]
  },
  {
   "cell_type": "code",
   "execution_count": null,
   "metadata": {},
   "outputs": [],
   "source": [
    "import time\n",
    "\n",
    "model2 = Model((TicTacToe.ROWS, TicTacToe.COLUMNS, 2), TicTacToe.nb_actions, summary=True)\n",
    "state = TicTacToe.get_init_state()\n",
    "while TicTacToe().get_reward(state) is None:\n",
    "  mcts2 = MCTS(TicTacToe(), state, model2, 200)\n",
    "  state = mcts2.run().select_child().state\n",
    "  plt.imshow(TicTacToe().colorize_state(state))\n",
    "  plt.show()\n",
    "  time.sleep(1)\n",
    "  if TicTacToe().get_reward(state) is not None:\n",
    "    break\n",
    "  mcts1 = MCTS(TicTacToe(), state, model, 200)\n",
    "  state = mcts1.run().select_child().state\n",
    "  plt.imshow(TicTacToe().colorize_state(state))\n",
    "  plt.show()\n",
    "  time.sleep(1)\n",
    "  if TicTacToe().get_reward(state):\n",
    "    break"
   ]
  },
  {
   "cell_type": "code",
   "execution_count": null,
   "metadata": {},
   "outputs": [],
   "source": []
  }
 ],
 "metadata": {
  "interpreter": {
   "hash": "7812ea015bdcee6f23a998adcdd2ef97c151c0c241b7b7070987d9313e41299d"
  },
  "kernelspec": {
   "display_name": "Python 3.9.7 64-bit",
   "language": "python",
   "name": "python3"
  },
  "language_info": {
   "codemirror_mode": {
    "name": "ipython",
    "version": 3
   },
   "file_extension": ".py",
   "mimetype": "text/x-python",
   "name": "python",
   "nbconvert_exporter": "python",
   "pygments_lexer": "ipython3",
   "version": "3.9.7"
  },
  "orig_nbformat": 4
 },
 "nbformat": 4,
 "nbformat_minor": 2
}
