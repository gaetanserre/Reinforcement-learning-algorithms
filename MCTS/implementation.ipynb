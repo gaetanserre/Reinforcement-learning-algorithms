{
 "cells": [
  {
   "cell_type": "markdown",
   "metadata": {},
   "source": [
    "## Inspired by this [guide](http://joshvarty.github.io/AlphaZero/)."
   ]
  },
  {
   "cell_type": "code",
   "execution_count": 1,
   "metadata": {},
   "outputs": [],
   "source": [
    "from connect2 import Connect2\n",
    "from mcts import MCTS\n",
    "from model import Model\n",
    "import numpy as np\n",
    "np.random.seed(42)"
   ]
  },
  {
   "cell_type": "code",
   "execution_count": 2,
   "metadata": {},
   "outputs": [
    {
     "name": "stderr",
     "output_type": "stream",
     "text": [
      "2021-11-28 03:18:28.352541: I tensorflow/core/platform/cpu_feature_guard.cc:151] This TensorFlow binary is optimized with oneAPI Deep Neural Network Library (oneDNN) to use the following CPU instructions in performance-critical operations:  AVX2 FMA\n",
      "To enable them in other operations, rebuild TensorFlow with the appropriate compiler flags.\n"
     ]
    }
   ],
   "source": [
    "model = Model((5,), 4)"
   ]
  },
  {
   "cell_type": "code",
   "execution_count": 3,
   "metadata": {},
   "outputs": [
    {
     "name": "stdout",
     "output_type": "stream",
     "text": [
      "1/20...Done\n",
      "policy_accuracy:  0.67 value_accuracy:  0.33\n",
      "2/20...Done\n",
      "policy_accuracy:  0.99 value_accuracy:  0.79\n",
      "3/20...Done\n",
      "policy_accuracy:  1.00 value_accuracy:  0.83\n",
      "4/20...Done\n",
      "policy_accuracy:  1.00 value_accuracy:  0.83\n",
      "5/20...Done\n",
      "policy_accuracy:  1.00 value_accuracy:  0.83\n",
      "6/20...Done\n",
      "policy_accuracy:  1.00 value_accuracy:  0.91\n",
      "7/20...Done\n",
      "policy_accuracy:  1.00 value_accuracy:  0.96\n",
      "8/20...Done\n",
      "policy_accuracy:  1.00 value_accuracy:  0.96\n",
      "9/20...Done\n",
      "policy_accuracy:  1.00 value_accuracy:  0.91\n",
      "10/20...Done\n",
      "policy_accuracy:  1.00 value_accuracy:  0.87\n",
      "11/20...Done\n",
      "policy_accuracy:  1.00 value_accuracy:  0.96\n",
      "12/20...Done\n",
      "policy_accuracy:  1.00 value_accuracy:  0.96\n",
      "13/20...Done\n",
      "policy_accuracy:  1.00 value_accuracy:  0.91\n",
      "14/20...Done\n",
      "policy_accuracy:  1.00 value_accuracy:  0.96\n",
      "15/20...Done\n",
      "policy_accuracy:  1.00 value_accuracy:  1.00\n",
      "16/20...Done\n",
      "policy_accuracy:  1.00 value_accuracy:  0.91\n",
      "17/20...Done\n",
      "policy_accuracy:  1.00 value_accuracy:  0.91\n",
      "18/20...Done\n",
      "policy_accuracy:  1.00 value_accuracy:  1.00\n",
      "19/20...Done\n",
      "policy_accuracy:  1.00 value_accuracy:  1.00\n",
      "20/20...Done\n",
      "policy_accuracy:  1.00 value_accuracy:  0.96\n"
     ]
    }
   ],
   "source": [
    "model.train(Connect2(), 20, 100, 30, 10)"
   ]
  },
  {
   "cell_type": "code",
   "execution_count": 4,
   "metadata": {},
   "outputs": [
    {
     "name": "stdout",
     "output_type": "stream",
     "text": [
      "(array([0.0283352 , 0.00453342, 0.9631826 , 0.00394878], dtype=float32), 1.0)\n"
     ]
    },
    {
     "data": {
      "text/plain": [
       "array([ 0,  0,  1,  0, -1])"
      ]
     },
     "execution_count": 4,
     "metadata": {},
     "output_type": "execute_result"
    }
   ],
   "source": [
    "state = np.array([0,0,0,0,1])\n",
    "print(model.predict(state))\n",
    "mcts = MCTS(Connect2(), state, model, 100)\n",
    "root = mcts.run()\n",
    "root.select_child().state"
   ]
  },
  {
   "cell_type": "code",
   "execution_count": null,
   "metadata": {},
   "outputs": [],
   "source": []
  }
 ],
 "metadata": {
  "interpreter": {
   "hash": "7812ea015bdcee6f23a998adcdd2ef97c151c0c241b7b7070987d9313e41299d"
  },
  "kernelspec": {
   "display_name": "Python 3.9.7 64-bit",
   "language": "python",
   "name": "python3"
  },
  "language_info": {
   "codemirror_mode": {
    "name": "ipython",
    "version": 3
   },
   "file_extension": ".py",
   "mimetype": "text/x-python",
   "name": "python",
   "nbconvert_exporter": "python",
   "pygments_lexer": "ipython3",
   "version": "3.9.7"
  },
  "orig_nbformat": 4
 },
 "nbformat": 4,
 "nbformat_minor": 2
}
