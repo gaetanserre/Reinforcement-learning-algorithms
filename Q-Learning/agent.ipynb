{
 "cells": [
  {
   "cell_type": "markdown",
   "metadata": {},
   "source": [
    "## Q-Learning agent"
   ]
  },
  {
   "cell_type": "code",
   "execution_count": 1,
   "metadata": {},
   "outputs": [],
   "source": [
    "import numpy as np\n",
    "import matplotlib.pyplot as plt\n",
    "import pandas as pd\n",
    "from hanoi import Hanoi, Action\n",
    "np.random.seed(42)"
   ]
  },
  {
   "cell_type": "code",
   "execution_count": 2,
   "metadata": {},
   "outputs": [],
   "source": [
    "def get_table_value (table, action, state):\n",
    "  return table[action][state] if state in table[action] else 0\n",
    "\n",
    "def choose_action(d, table):\n",
    "  actions = d.get_actions()\n",
    "  values = list(map(lambda a: get_table_value(table, a, d.state), actions))\n",
    "\n",
    "  if values.count(values[0])==len(values):\n",
    "    return Action(np.random.choice(actions))\n",
    "  else:\n",
    "    idx_max = max(range(len(values)), key=values.__getitem__)\n",
    "    return actions[idx_max]"
   ]
  },
  {
   "cell_type": "code",
   "execution_count": 3,
   "metadata": {},
   "outputs": [],
   "source": [
    "def create_table(nb_actions):\n",
    "  table = []\n",
    "  for _ in range(nb_actions):\n",
    "    table.append({})\n",
    "  return table"
   ]
  },
  {
   "cell_type": "code",
   "execution_count": 4,
   "metadata": {},
   "outputs": [],
   "source": [
    "def greedy_fit(nb_iterations=2000):\n",
    "  d = create_env()\n",
    "  greedy_table = create_table(env.nb_actions)\n",
    "  for _ in range(nb_iterations):\n",
    "    action = choose_action(d, greedy_table)\n",
    "    old_state = d.state\n",
    "    d.set_state(d.get_new_state(action))\n",
    "    reward = d.get_reward()\n",
    "    greedy_table[action][old_state] = get_table_value(greedy_table, action, old_state) + reward\n",
    "\n",
    "    if d.is_final_state():\n",
    "      d = create_env()\n",
    "  return greedy_table"
   ]
  },
  {
   "cell_type": "markdown",
   "metadata": {},
   "source": [
    "### Q-Learning update rule:\n",
    "$$\n",
    "Q[s, a] := (1 - \\alpha) * Q[s, a] + \\alpha * (r + \\gamma * max_{a' \\in actions} Q[s', a'])\n",
    "$$"
   ]
  },
  {
   "cell_type": "code",
   "execution_count": 5,
   "metadata": {},
   "outputs": [],
   "source": [
    "def choose_q_action(d, q_table, gambling_rate):\n",
    "  if np.random.random() <= gambling_rate:\n",
    "    return Action(np.random.choice(d.get_actions()))\n",
    "  else:\n",
    "    return choose_action(d, q_table)\n",
    "\n",
    "def update_q_table(alpha, gamma, q_table, old_state, d_new, action):\n",
    "  reward = d_new.get_reward()\n",
    "  actual_value = get_table_value(q_table, action, old_state)\n",
    "\n",
    "  max_list = list(map(lambda a: get_table_value(q_table, a, d_new.state), d_new.get_actions()))\n",
    "  max_value = max(max_list)\n",
    "\n",
    "  return (1-alpha) * actual_value + alpha * (reward + gamma * max_value)\n"
   ]
  },
  {
   "cell_type": "code",
   "execution_count": 6,
   "metadata": {},
   "outputs": [],
   "source": [
    "def Q_fit(nb_iterations=4000):\n",
    "  d = create_env()\n",
    "  alpha = 1\n",
    "  gamma = 0.95\n",
    "  gambling_rate = 1\n",
    "\n",
    "  q_table = create_table(env.nb_actions)\n",
    "  for _ in range(nb_iterations):\n",
    "    action = choose_q_action(d, q_table, gambling_rate)\n",
    "    gambling_rate -= 1/nb_iterations\n",
    "    old_state = d.state\n",
    "    d.set_state(d.get_new_state(action))\n",
    "    q_table[action][old_state] = update_q_table(alpha, gamma, q_table, old_state, d, action)\n",
    "\n",
    "    if d.is_final_state():\n",
    "      d = create_env()\n",
    "  return q_table\n",
    "\n",
    "def policy_to_df(policy):\n",
    "  return pd.DataFrame(policy, index=env.actions_list())"
   ]
  },
  {
   "cell_type": "code",
   "execution_count": 7,
   "metadata": {},
   "outputs": [],
   "source": [
    "# These functions are linked to my implementation of the Towers of Hanoï so they won't work on another game\n",
    "\n",
    "def play(policy, display=True):\n",
    "  d = create_env()\n",
    "  nb_moves = 0\n",
    "  if display: print(d.state)\n",
    "  while d.state != d.final_state and nb_moves < 100:\n",
    "    action = choose_action(d, policy)\n",
    "    d.set_state(d.get_new_state(action))\n",
    "    nb_moves += 1\n",
    "    if display:\n",
    "      print(action)\n",
    "      print(d.state)\n",
    "  return nb_moves\n",
    "\n",
    "def plot_Q_evolution(it_list, path=None):\n",
    "  plt.figure(dpi=150)\n",
    "  nb_optimal_moves = 2**N-1\n",
    "  nb_moves = []\n",
    "  for it in it_list:\n",
    "    tmp = []\n",
    "    for _ in range(5):\n",
    "      policy = Q_fit(it)\n",
    "      tmp.append(play(policy, display=False))\n",
    "    nb_moves.append(np.mean(tmp))\n",
    "  \n",
    "  plt.plot(it_list, nb_moves, \".-\", color='r', label=\"Average number of moves found by the agent\")\n",
    "  plt.axhline(nb_optimal_moves, color=\"orange\", label=f\"Optimal number of moves = {nb_optimal_moves}\")\n",
    "  plt.xlabel(\"Number of iterations\")\n",
    "  plt.ylabel(\"Number of moves\")\n",
    "  plt.title(f\"Solving Towers of Hanoï with {N} disks using Q-Learning\")\n",
    "  lgd = plt.legend(bbox_to_anchor=(0.5, -0.3), loc=\"center\")\n",
    "  if path != None:\n",
    "    plt.savefig(path, bbox_extra_artists=(lgd,), bbox_inches=\"tight\")\n"
   ]
  },
  {
   "cell_type": "code",
   "execution_count": 8,
   "metadata": {},
   "outputs": [],
   "source": [
    "env = Hanoi\n",
    "N = 2\n",
    "def create_env():\n",
    "  return env(N)"
   ]
  },
  {
   "cell_type": "code",
   "execution_count": 9,
   "metadata": {},
   "outputs": [
    {
     "name": "stdout",
     "output_type": "stream",
     "text": [
      "(0, 0)\n",
      "Action.L2MID\n",
      "(1, 0)\n",
      "Action.L2RIGHT\n",
      "(1, 2)\n",
      "Action.M2RIGHT\n",
      "(2, 2)\n"
     ]
    },
    {
     "data": {
      "text/plain": [
       "3"
      ]
     },
     "execution_count": 9,
     "metadata": {},
     "output_type": "execute_result"
    }
   ],
   "source": [
    "policy = Q_fit(100)\n",
    "play(policy)"
   ]
  },
  {
   "cell_type": "code",
   "execution_count": 10,
   "metadata": {},
   "outputs": [
    {
     "data": {
      "text/html": [
       "<div>\n",
       "<style scoped>\n",
       "    .dataframe tbody tr th:only-of-type {\n",
       "        vertical-align: middle;\n",
       "    }\n",
       "\n",
       "    .dataframe tbody tr th {\n",
       "        vertical-align: top;\n",
       "    }\n",
       "\n",
       "    .dataframe thead th {\n",
       "        text-align: right;\n",
       "    }\n",
       "</style>\n",
       "<table border=\"1\" class=\"dataframe\">\n",
       "  <thead>\n",
       "    <tr style=\"text-align: right;\">\n",
       "      <th></th>\n",
       "      <th>(0, 0)</th>\n",
       "      <th>(2, 0)</th>\n",
       "      <th>(0, 1)</th>\n",
       "      <th>(0, 2)</th>\n",
       "      <th>(1, 0)</th>\n",
       "      <th>(1, 1)</th>\n",
       "      <th>(2, 1)</th>\n",
       "      <th>(1, 2)</th>\n",
       "    </tr>\n",
       "  </thead>\n",
       "  <tbody>\n",
       "    <tr>\n",
       "      <th>LEFT2MID</th>\n",
       "      <td>-10.47500</td>\n",
       "      <td>-19.500</td>\n",
       "      <td>-19.5</td>\n",
       "      <td>-0.5</td>\n",
       "      <td>NaN</td>\n",
       "      <td>NaN</td>\n",
       "      <td>NaN</td>\n",
       "      <td>NaN</td>\n",
       "    </tr>\n",
       "    <tr>\n",
       "      <th>LEFT2RIGHT</th>\n",
       "      <td>-19.95125</td>\n",
       "      <td>NaN</td>\n",
       "      <td>-10.0</td>\n",
       "      <td>NaN</td>\n",
       "      <td>-0.50000</td>\n",
       "      <td>NaN</td>\n",
       "      <td>NaN</td>\n",
       "      <td>NaN</td>\n",
       "    </tr>\n",
       "    <tr>\n",
       "      <th>MID2LEFT</th>\n",
       "      <td>NaN</td>\n",
       "      <td>NaN</td>\n",
       "      <td>NaN</td>\n",
       "      <td>NaN</td>\n",
       "      <td>-19.95125</td>\n",
       "      <td>-19.5</td>\n",
       "      <td>-19.95125</td>\n",
       "      <td>-10.000</td>\n",
       "    </tr>\n",
       "    <tr>\n",
       "      <th>MID2RIGHT</th>\n",
       "      <td>NaN</td>\n",
       "      <td>NaN</td>\n",
       "      <td>-10.0</td>\n",
       "      <td>NaN</td>\n",
       "      <td>-19.95125</td>\n",
       "      <td>-19.5</td>\n",
       "      <td>NaN</td>\n",
       "      <td>10.000</td>\n",
       "    </tr>\n",
       "    <tr>\n",
       "      <th>RIGHT2MID</th>\n",
       "      <td>NaN</td>\n",
       "      <td>-10.475</td>\n",
       "      <td>NaN</td>\n",
       "      <td>-10.0</td>\n",
       "      <td>NaN</td>\n",
       "      <td>NaN</td>\n",
       "      <td>-10.00000</td>\n",
       "      <td>NaN</td>\n",
       "    </tr>\n",
       "    <tr>\n",
       "      <th>RIGHT2LEFT</th>\n",
       "      <td>NaN</td>\n",
       "      <td>-19.500</td>\n",
       "      <td>NaN</td>\n",
       "      <td>NaN</td>\n",
       "      <td>NaN</td>\n",
       "      <td>NaN</td>\n",
       "      <td>-19.50000</td>\n",
       "      <td>-10.475</td>\n",
       "    </tr>\n",
       "  </tbody>\n",
       "</table>\n",
       "</div>"
      ],
      "text/plain": [
       "              (0, 0)  (2, 0)  (0, 1)  (0, 2)    (1, 0)  (1, 1)    (2, 1)  \\\n",
       "LEFT2MID   -10.47500 -19.500   -19.5    -0.5       NaN     NaN       NaN   \n",
       "LEFT2RIGHT -19.95125     NaN   -10.0     NaN  -0.50000     NaN       NaN   \n",
       "MID2LEFT         NaN     NaN     NaN     NaN -19.95125   -19.5 -19.95125   \n",
       "MID2RIGHT        NaN     NaN   -10.0     NaN -19.95125   -19.5       NaN   \n",
       "RIGHT2MID        NaN -10.475     NaN   -10.0       NaN     NaN -10.00000   \n",
       "RIGHT2LEFT       NaN -19.500     NaN     NaN       NaN     NaN -19.50000   \n",
       "\n",
       "            (1, 2)  \n",
       "LEFT2MID       NaN  \n",
       "LEFT2RIGHT     NaN  \n",
       "MID2LEFT   -10.000  \n",
       "MID2RIGHT   10.000  \n",
       "RIGHT2MID      NaN  \n",
       "RIGHT2LEFT -10.475  "
      ]
     },
     "execution_count": 10,
     "metadata": {},
     "output_type": "execute_result"
    }
   ],
   "source": [
    "policy_df = policy_to_df(policy)\n",
    "policy_df"
   ]
  },
  {
   "cell_type": "code",
   "execution_count": 11,
   "metadata": {},
   "outputs": [],
   "source": [
    "#greedy_fit()"
   ]
  },
  {
   "cell_type": "code",
   "execution_count": 12,
   "metadata": {},
   "outputs": [
    {
     "data": {
      "image/png": "[encoded data removed]",
      "text/plain": [
       "<Figure size 900x600 with 1 Axes>"
      ]
     },
     "metadata": {
      "needs_background": "light"
     },
     "output_type": "display_data"
    }
   ],
   "source": [
    "plot_Q_evolution(np.linspace(30, 100, 8, dtype=np.int64))"
   ]
  },
  {
   "cell_type": "code",
   "execution_count": null,
   "metadata": {},
   "outputs": [],
   "source": []
  }
 ],
 "metadata": {
  "interpreter": {
   "hash": "aee8b7b246df8f9039afb4144a1f6fd8d2ca17a180786b69acc140d282b71a49"
  },
  "kernelspec": {
   "display_name": "Python 3.9.7 64-bit",
   "language": "python",
   "name": "python3"
  },
  "language_info": {
   "codemirror_mode": {
    "name": "ipython",
    "version": 3
   },
   "file_extension": ".py",
   "mimetype": "text/x-python",
   "name": "python",
   "nbconvert_exporter": "python",
   "pygments_lexer": "ipython3",
   "version": "3.9.7"
  },
  "orig_nbformat": 4
 },
 "nbformat": 4,
 "nbformat_minor": 2
}
