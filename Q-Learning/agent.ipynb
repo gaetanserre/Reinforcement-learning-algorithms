{
 "cells": [
  {
   "cell_type": "markdown",
   "metadata": {},
   "source": [
    "## Q-Learning simple example\n",
    "Guide from [valohai](https://valohai.com/blog/reinforcement-learning-tutorial-part-1-q-learning/)"
   ]
  },
  {
   "cell_type": "code",
   "execution_count": 19,
   "metadata": {},
   "outputs": [],
   "source": [
    "import numpy as np\n",
    "from dungeon import Dungeon, Action\n",
    "np.random.seed(42)"
   ]
  },
  {
   "cell_type": "code",
   "execution_count": 20,
   "metadata": {},
   "outputs": [],
   "source": [
    "def choose_action(d, table):\n",
    "  r1 = table[Action.FORWARD, d.state]\n",
    "  r2 = table[Action.BACKWARD, d.state]\n",
    "  if r1 > r2: return Action.FORWARD\n",
    "  elif r2 > r1: return Action.BACKWARD\n",
    "  else:\n",
    "    return Action(np.random.randint(0, 2))"
   ]
  },
  {
   "cell_type": "code",
   "execution_count": 21,
   "metadata": {},
   "outputs": [],
   "source": [
    "d = Dungeon()"
   ]
  },
  {
   "cell_type": "code",
   "execution_count": 22,
   "metadata": {},
   "outputs": [],
   "source": [
    "greedy_table = np.zeros((2, 5), dtype = np.int64)\n",
    "for _ in range(2000):\n",
    "  action = choose_action(d, greedy_table)\n",
    "  d_new = Dungeon(d.get_new_state(action))\n",
    "  reward = d_new.get_reward()\n",
    "  greedy_table[action, d.state] += reward\n",
    "  d = d_new"
   ]
  },
  {
   "cell_type": "code",
   "execution_count": 23,
   "metadata": {},
   "outputs": [
    {
     "data": {
      "text/plain": [
       "array([[   0,    0,    0,    0,    0],\n",
       "       [3174,  336,   46,    4,    0]])"
      ]
     },
     "execution_count": 23,
     "metadata": {},
     "output_type": "execute_result"
    }
   ],
   "source": [
    "greedy_table"
   ]
  },
  {
   "cell_type": "code",
   "execution_count": 24,
   "metadata": {},
   "outputs": [],
   "source": [
    "def choose_q_action(d, q_table, gambling_rate):\n",
    "  if np.random.random() <= gambling_rate:\n",
    "    return Action(np.random.randint(0, 2))\n",
    "  else:\n",
    "    return choose_action(d, q_table)\n",
    "\n",
    "def update_q_table(eta, discount, q_table, d, d_new, action):\n",
    "  reward = d_new.get_reward()\n",
    "  actual_value = q_table[action, d.state]\n",
    "  max_value = max(q_table[Action.FORWARD, d_new.state], q_table[Action.BACKWARD, d_new.state])\n",
    "  return actual_value + eta * (reward + discount * max_value - actual_value)\n"
   ]
  },
  {
   "cell_type": "code",
   "execution_count": 30,
   "metadata": {},
   "outputs": [],
   "source": [
    "eta = 0.1\n",
    "discount = 0.95\n",
    "gambling_rate = 1\n",
    "nb_iterations = 4000\n",
    "\n",
    "q_table = np.zeros((2, 5))\n",
    "for _ in range(nb_iterations):\n",
    "  action = choose_q_action(d, q_table, gambling_rate)\n",
    "  gambling_rate -= 1/nb_iterations\n",
    "  d_new = Dungeon(d.get_new_state(action))\n",
    "  q_table[action, d.state] = update_q_table(eta, discount, q_table, d, d_new, action)\n",
    "  d = d_new"
   ]
  },
  {
   "cell_type": "code",
   "execution_count": 31,
   "metadata": {},
   "outputs": [
    {
     "data": {
      "text/plain": [
       "array([[100.93168683, 107.75981273, 116.35587962, 124.61942965,\n",
       "        121.97453412],\n",
       "       [ 84.78026194,  84.02664969,  75.83539758,  72.22210351,\n",
       "         90.35137767]])"
      ]
     },
     "execution_count": 31,
     "metadata": {},
     "output_type": "execute_result"
    }
   ],
   "source": [
    "q_table"
   ]
  },
  {
   "cell_type": "code",
   "execution_count": 27,
   "metadata": {},
   "outputs": [
    {
     "data": {
      "text/plain": [
       "<Action.FORWARD: 0>"
      ]
     },
     "execution_count": 27,
     "metadata": {},
     "output_type": "execute_result"
    }
   ],
   "source": [
    "d = Dungeon(4)\n",
    "choose_action(d, q_table)"
   ]
  }
 ],
 "metadata": {
  "interpreter": {
   "hash": "aee8b7b246df8f9039afb4144a1f6fd8d2ca17a180786b69acc140d282b71a49"
  },
  "kernelspec": {
   "display_name": "Python 3.9.7 64-bit",
   "language": "python",
   "name": "python3"
  },
  "language_info": {
   "codemirror_mode": {
    "name": "ipython",
    "version": 3
   },
   "file_extension": ".py",
   "mimetype": "text/x-python",
   "name": "python",
   "nbconvert_exporter": "python",
   "pygments_lexer": "ipython3",
   "version": "3.9.7"
  },
  "orig_nbformat": 4
 },
 "nbformat": 4,
 "nbformat_minor": 2
}
